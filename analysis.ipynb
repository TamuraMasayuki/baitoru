{
 "cells": [
  {
   "cell_type": "markdown",
   "metadata": {},
   "source": [
    "# スクレイピングしたデータセットの分析・評価"
   ]
  },
  {
   "cell_type": "code",
   "execution_count": 1,
   "metadata": {},
   "outputs": [],
   "source": [
    "import pandas as pd\n",
    "import seaborn as sns\n",
    "import matplotlib.pyplot as plt\n",
    "import numpy as np"
   ]
  },
  {
   "cell_type": "markdown",
   "metadata": {},
   "source": [
    "## 1. データを整形する"
   ]
  },
  {
   "cell_type": "code",
   "execution_count": 2,
   "metadata": {},
   "outputs": [],
   "source": [
    "city_name = [\"23ku\", \"nagoya\", \"osaka\", \"saitama\", \"yokohama\"]\n",
    "\n",
    "column_name = {'企業名': 'corp', '最寄り駅': 'station', '職種': 'occupation', '給与形態': 'pay_form', \n",
    "               '給与金額': 'pay_qty', '勤務開始時間': 'start_time', '勤務終了時間': 'end_time', \n",
    "               '日払い': 'daily_paid', '週払い': 'weekly_paid', '高収入': 'high_income', '学生': 'student', \n",
    "               '高校生': 'high_school', 'ミドル': 'middle_age', '主婦(夫)': 'housewife', '未経験OK': 'inexperienced', \n",
    "               '交通費有': 'transport', '年齢(10代)': 'age_10', '年齢(20代)': 'age_20', '年齢(30代)': 'age_30', \n",
    "               '年齢(40代)': 'age_40', '年齢(50代)': 'age_50', '男女割合': 'sex_ratio', '仕事の仕方': 'manner', '職場の様子': 'atoms'}"
   ]
  },
  {
   "cell_type": "code",
   "execution_count": 3,
   "metadata": {},
   "outputs": [],
   "source": [
    "tokyo = pd.read_csv(\"./result_file_0/23ku.csv\")\n",
    "nagoya = pd.read_csv(\"./result_file_0/nagoya.csv\")\n",
    "osaka = pd.read_csv(\"./result_file_0/osaka.csv\")\n",
    "saitama = pd.read_csv(\"./result_file_0/saitama.csv\")\n",
    "yokohama = pd.read_csv(\"./result_file_0/yokohama.csv\")"
   ]
  },
  {
   "cell_type": "code",
   "execution_count": 4,
   "metadata": {},
   "outputs": [],
   "source": [
    "# リストにまとめる\n",
    "df_list = [tokyo, nagoya, osaka, saitama, yokohama]"
   ]
  },
  {
   "cell_type": "code",
   "execution_count": 5,
   "metadata": {},
   "outputs": [],
   "source": [
    "for i in range(len(df_list)):\n",
    "    df_list[i].insert(0, \"city\", city_name[i])"
   ]
  },
  {
   "cell_type": "code",
   "execution_count": 6,
   "metadata": {},
   "outputs": [],
   "source": [
    "# 1つのデータフレームにまとめる\n",
    "df = df_list[0]\n",
    "for i in range(1, len(df_list)):\n",
    "    df = pd.concat([df, df_list[i]])"
   ]
  },
  {
   "cell_type": "code",
   "execution_count": 7,
   "metadata": {},
   "outputs": [],
   "source": [
    "# カラム名を全て英語表記に変更する\n",
    "df = df.rename(columns=column_name)"
   ]
  },
  {
   "cell_type": "code",
   "execution_count": 8,
   "metadata": {},
   "outputs": [
    {
     "data": {
      "text/html": [
       "<div>\n",
       "<style scoped>\n",
       "    .dataframe tbody tr th:only-of-type {\n",
       "        vertical-align: middle;\n",
       "    }\n",
       "\n",
       "    .dataframe tbody tr th {\n",
       "        vertical-align: top;\n",
       "    }\n",
       "\n",
       "    .dataframe thead th {\n",
       "        text-align: right;\n",
       "    }\n",
       "</style>\n",
       "<table border=\"1\" class=\"dataframe\">\n",
       "  <thead>\n",
       "    <tr style=\"text-align: right;\">\n",
       "      <th></th>\n",
       "      <th>city</th>\n",
       "      <th>corp</th>\n",
       "      <th>station</th>\n",
       "      <th>occupation</th>\n",
       "      <th>pay_form</th>\n",
       "      <th>pay_qty</th>\n",
       "      <th>start_time</th>\n",
       "      <th>end_time</th>\n",
       "      <th>daily_paid</th>\n",
       "      <th>weekly_paid</th>\n",
       "      <th>...</th>\n",
       "      <th>inexperienced</th>\n",
       "      <th>transport</th>\n",
       "      <th>age_10</th>\n",
       "      <th>age_20</th>\n",
       "      <th>age_30</th>\n",
       "      <th>age_40</th>\n",
       "      <th>age_50</th>\n",
       "      <th>sex_ratio</th>\n",
       "      <th>manner</th>\n",
       "      <th>atoms</th>\n",
       "    </tr>\n",
       "  </thead>\n",
       "  <tbody>\n",
       "    <tr>\n",
       "      <th>27</th>\n",
       "      <td>23ku</td>\n",
       "      <td>オーケー　十条店</td>\n",
       "      <td>東十条駅</td>\n",
       "      <td>販売</td>\n",
       "      <td>時給</td>\n",
       "      <td>1013</td>\n",
       "      <td>6.0</td>\n",
       "      <td>22.0</td>\n",
       "      <td>0</td>\n",
       "      <td>0</td>\n",
       "      <td>...</td>\n",
       "      <td>1</td>\n",
       "      <td>1</td>\n",
       "      <td>0.0</td>\n",
       "      <td>1.0</td>\n",
       "      <td>1.0</td>\n",
       "      <td>1.0</td>\n",
       "      <td>0.0</td>\n",
       "      <td>0.75</td>\n",
       "      <td>0.75</td>\n",
       "      <td>0.5</td>\n",
       "    </tr>\n",
       "    <tr>\n",
       "      <th>31</th>\n",
       "      <td>23ku</td>\n",
       "      <td>オーケー　十条店</td>\n",
       "      <td>東十条駅</td>\n",
       "      <td>販売</td>\n",
       "      <td>時給</td>\n",
       "      <td>1013</td>\n",
       "      <td>6.0</td>\n",
       "      <td>22.0</td>\n",
       "      <td>0</td>\n",
       "      <td>0</td>\n",
       "      <td>...</td>\n",
       "      <td>1</td>\n",
       "      <td>1</td>\n",
       "      <td>0.0</td>\n",
       "      <td>1.0</td>\n",
       "      <td>1.0</td>\n",
       "      <td>1.0</td>\n",
       "      <td>0.0</td>\n",
       "      <td>0.75</td>\n",
       "      <td>0.75</td>\n",
       "      <td>0.5</td>\n",
       "    </tr>\n",
       "  </tbody>\n",
       "</table>\n",
       "<p>2 rows × 25 columns</p>\n",
       "</div>"
      ],
      "text/plain": [
       "    city      corp station occupation pay_form  pay_qty  start_time  end_time  \\\n",
       "27  23ku  オーケー　十条店    東十条駅         販売       時給     1013         6.0      22.0   \n",
       "31  23ku  オーケー　十条店    東十条駅         販売       時給     1013         6.0      22.0   \n",
       "\n",
       "    daily_paid  weekly_paid  ...  inexperienced  transport  age_10  age_20  \\\n",
       "27           0            0  ...              1          1     0.0     1.0   \n",
       "31           0            0  ...              1          1     0.0     1.0   \n",
       "\n",
       "    age_30  age_40  age_50  sex_ratio  manner  atoms  \n",
       "27     1.0     1.0     0.0       0.75    0.75    0.5  \n",
       "31     1.0     1.0     0.0       0.75    0.75    0.5  \n",
       "\n",
       "[2 rows x 25 columns]"
      ]
     },
     "execution_count": 8,
     "metadata": {},
     "output_type": "execute_result"
    }
   ],
   "source": [
    "df.query('corp.str.contains(\"オーケー　十条店\")', engine=\"python\")"
   ]
  },
  {
   "cell_type": "markdown",
   "metadata": {},
   "source": [
    "全く同じアルバイト募集が存在する"
   ]
  },
  {
   "cell_type": "code",
   "execution_count": 9,
   "metadata": {},
   "outputs": [],
   "source": [
    "# 職種を含めて全て重複する行を削除する\n",
    "df = df.drop_duplicates()"
   ]
  },
  {
   "cell_type": "code",
   "execution_count": 10,
   "metadata": {},
   "outputs": [],
   "source": [
    "df.reset_index(inplace=True, drop=True)"
   ]
  },
  {
   "cell_type": "code",
   "execution_count": 11,
   "metadata": {},
   "outputs": [
    {
     "name": "stderr",
     "output_type": "stream",
     "text": [
      "/Users/tamuramasayuki/opt/anaconda3/lib/python3.7/site-packages/ipykernel_launcher.py:5: SettingWithCopyWarning: \n",
      "A value is trying to be set on a copy of a slice from a DataFrame\n",
      "\n",
      "See the caveats in the documentation: https://pandas.pydata.org/pandas-docs/stable/user_guide/indexing.html#returning-a-view-versus-a-copy\n",
      "  \"\"\"\n",
      "/Users/tamuramasayuki/opt/anaconda3/lib/python3.7/site-packages/ipykernel_launcher.py:7: SettingWithCopyWarning: \n",
      "A value is trying to be set on a copy of a slice from a DataFrame\n",
      "\n",
      "See the caveats in the documentation: https://pandas.pydata.org/pandas-docs/stable/user_guide/indexing.html#returning-a-view-versus-a-copy\n",
      "  import sys\n",
      "/Users/tamuramasayuki/opt/anaconda3/lib/python3.7/site-packages/ipykernel_launcher.py:9: SettingWithCopyWarning: \n",
      "A value is trying to be set on a copy of a slice from a DataFrame\n",
      "\n",
      "See the caveats in the documentation: https://pandas.pydata.org/pandas-docs/stable/user_guide/indexing.html#returning-a-view-versus-a-copy\n",
      "  if __name__ == '__main__':\n",
      "/Users/tamuramasayuki/opt/anaconda3/lib/python3.7/site-packages/ipykernel_launcher.py:11: SettingWithCopyWarning: \n",
      "A value is trying to be set on a copy of a slice from a DataFrame\n",
      "\n",
      "See the caveats in the documentation: https://pandas.pydata.org/pandas-docs/stable/user_guide/indexing.html#returning-a-view-versus-a-copy\n",
      "  # This is added back by InteractiveShellApp.init_path()\n",
      "/Users/tamuramasayuki/opt/anaconda3/lib/python3.7/site-packages/ipykernel_launcher.py:13: SettingWithCopyWarning: \n",
      "A value is trying to be set on a copy of a slice from a DataFrame\n",
      "\n",
      "See the caveats in the documentation: https://pandas.pydata.org/pandas-docs/stable/user_guide/indexing.html#returning-a-view-versus-a-copy\n",
      "  del sys.path[0]\n",
      "/Users/tamuramasayuki/opt/anaconda3/lib/python3.7/site-packages/ipykernel_launcher.py:15: SettingWithCopyWarning: \n",
      "A value is trying to be set on a copy of a slice from a DataFrame\n",
      "\n",
      "See the caveats in the documentation: https://pandas.pydata.org/pandas-docs/stable/user_guide/indexing.html#returning-a-view-versus-a-copy\n",
      "  from ipykernel import kernelapp as app\n",
      "/Users/tamuramasayuki/opt/anaconda3/lib/python3.7/site-packages/ipykernel_launcher.py:17: SettingWithCopyWarning: \n",
      "A value is trying to be set on a copy of a slice from a DataFrame\n",
      "\n",
      "See the caveats in the documentation: https://pandas.pydata.org/pandas-docs/stable/user_guide/indexing.html#returning-a-view-versus-a-copy\n",
      "/Users/tamuramasayuki/opt/anaconda3/lib/python3.7/site-packages/ipykernel_launcher.py:19: SettingWithCopyWarning: \n",
      "A value is trying to be set on a copy of a slice from a DataFrame\n",
      "\n",
      "See the caveats in the documentation: https://pandas.pydata.org/pandas-docs/stable/user_guide/indexing.html#returning-a-view-versus-a-copy\n",
      "/Users/tamuramasayuki/opt/anaconda3/lib/python3.7/site-packages/ipykernel_launcher.py:21: SettingWithCopyWarning: \n",
      "A value is trying to be set on a copy of a slice from a DataFrame\n",
      "\n",
      "See the caveats in the documentation: https://pandas.pydata.org/pandas-docs/stable/user_guide/indexing.html#returning-a-view-versus-a-copy\n",
      "/Users/tamuramasayuki/opt/anaconda3/lib/python3.7/site-packages/ipykernel_launcher.py:23: SettingWithCopyWarning: \n",
      "A value is trying to be set on a copy of a slice from a DataFrame\n",
      "\n",
      "See the caveats in the documentation: https://pandas.pydata.org/pandas-docs/stable/user_guide/indexing.html#returning-a-view-versus-a-copy\n",
      "/Users/tamuramasayuki/opt/anaconda3/lib/python3.7/site-packages/ipykernel_launcher.py:25: SettingWithCopyWarning: \n",
      "A value is trying to be set on a copy of a slice from a DataFrame\n",
      "\n",
      "See the caveats in the documentation: https://pandas.pydata.org/pandas-docs/stable/user_guide/indexing.html#returning-a-view-versus-a-copy\n",
      "/Users/tamuramasayuki/opt/anaconda3/lib/python3.7/site-packages/ipykernel_launcher.py:27: SettingWithCopyWarning: \n",
      "A value is trying to be set on a copy of a slice from a DataFrame\n",
      "\n",
      "See the caveats in the documentation: https://pandas.pydata.org/pandas-docs/stable/user_guide/indexing.html#returning-a-view-versus-a-copy\n",
      "/Users/tamuramasayuki/opt/anaconda3/lib/python3.7/site-packages/ipykernel_launcher.py:29: SettingWithCopyWarning: \n",
      "A value is trying to be set on a copy of a slice from a DataFrame\n",
      "\n",
      "See the caveats in the documentation: https://pandas.pydata.org/pandas-docs/stable/user_guide/indexing.html#returning-a-view-versus-a-copy\n",
      "/Users/tamuramasayuki/opt/anaconda3/lib/python3.7/site-packages/ipykernel_launcher.py:31: SettingWithCopyWarning: \n",
      "A value is trying to be set on a copy of a slice from a DataFrame\n",
      "\n",
      "See the caveats in the documentation: https://pandas.pydata.org/pandas-docs/stable/user_guide/indexing.html#returning-a-view-versus-a-copy\n",
      "/Users/tamuramasayuki/opt/anaconda3/lib/python3.7/site-packages/ipykernel_launcher.py:33: SettingWithCopyWarning: \n",
      "A value is trying to be set on a copy of a slice from a DataFrame\n",
      "\n",
      "See the caveats in the documentation: https://pandas.pydata.org/pandas-docs/stable/user_guide/indexing.html#returning-a-view-versus-a-copy\n",
      "/Users/tamuramasayuki/opt/anaconda3/lib/python3.7/site-packages/ipykernel_launcher.py:35: SettingWithCopyWarning: \n",
      "A value is trying to be set on a copy of a slice from a DataFrame\n",
      "\n",
      "See the caveats in the documentation: https://pandas.pydata.org/pandas-docs/stable/user_guide/indexing.html#returning-a-view-versus-a-copy\n"
     ]
    }
   ],
   "source": [
    "# 日本語では文字化けしてしまうので職業を英語表記にする\n",
    "for i in range(len(df)):\n",
    "    occupation_name = df.loc[:, 'occupation'][i]\n",
    "    if occupation_name == '販売':\n",
    "        df.loc[:, 'occupation'][i] = 'sales'\n",
    "    elif occupation_name == 'フード・飲食':\n",
    "        df.loc[:, 'occupation'][i] = 'food'\n",
    "    elif occupation_name == 'サービス':\n",
    "        df.loc[:, 'occupation'][i] = 'service'\n",
    "    elif occupation_name == 'イベント':\n",
    "        df.loc[:, 'occupation'][i] = 'event'\n",
    "    elif occupation_name == '軽作業・物流':\n",
    "        df.loc[:, 'occupation'][i] = 'lightwork'\n",
    "    elif occupation_name == '工場・製造':\n",
    "        df.loc[:, 'occupation'][i] = 'production'\n",
    "    elif occupation_name == '建築・土木':\n",
    "        df.loc[:, 'occupation'][i] = 'architecture'\n",
    "    elif occupation_name == '営業':\n",
    "        df.loc[:, 'occupation'][i] = 'business'\n",
    "    elif occupation_name == 'オフィス':\n",
    "        df.loc[:, 'occupation'][i] = 'office'\n",
    "    elif occupation_name == 'IT・クリエイティブ/クリエイター':\n",
    "        df.loc[:, 'occupation'][i] = 'creative'\n",
    "    elif occupation_name == '教育':\n",
    "        df.loc[:, 'occupation'][i] = 'education'\n",
    "    elif occupation_name == '医療・介護・福祉':\n",
    "        df.loc[:, 'occupation'][i] = 'medicalcare'\n",
    "    elif occupation_name == '美容・理容・サロン':\n",
    "        df.loc[:, 'occupation'][i] = 'beauty'\n",
    "    elif occupation_name == '調査・モニター':\n",
    "        df.loc[:, 'occupation'][i] = 'investigation'\n",
    "    elif occupation_name == '専門職、その他':\n",
    "        df.loc[:, 'occupation'][i] = 'professional'\n",
    "    elif occupation_name == 'ガールズバー・キャバクラ・スナック':\n",
    "        df.loc[:, 'occupation'][i] = 'nightwork'\n",
    "    else:\n",
    "        raise Exception"
   ]
  },
  {
   "cell_type": "code",
   "execution_count": 12,
   "metadata": {},
   "outputs": [
    {
     "data": {
      "text/html": [
       "<div>\n",
       "<style scoped>\n",
       "    .dataframe tbody tr th:only-of-type {\n",
       "        vertical-align: middle;\n",
       "    }\n",
       "\n",
       "    .dataframe tbody tr th {\n",
       "        vertical-align: top;\n",
       "    }\n",
       "\n",
       "    .dataframe thead th {\n",
       "        text-align: right;\n",
       "    }\n",
       "</style>\n",
       "<table border=\"1\" class=\"dataframe\">\n",
       "  <thead>\n",
       "    <tr style=\"text-align: right;\">\n",
       "      <th></th>\n",
       "      <th>city</th>\n",
       "      <th>corp</th>\n",
       "      <th>station</th>\n",
       "      <th>occupation</th>\n",
       "      <th>pay_form</th>\n",
       "      <th>pay_qty</th>\n",
       "      <th>start_time</th>\n",
       "      <th>end_time</th>\n",
       "      <th>daily_paid</th>\n",
       "      <th>weekly_paid</th>\n",
       "      <th>...</th>\n",
       "      <th>inexperienced</th>\n",
       "      <th>transport</th>\n",
       "      <th>age_10</th>\n",
       "      <th>age_20</th>\n",
       "      <th>age_30</th>\n",
       "      <th>age_40</th>\n",
       "      <th>age_50</th>\n",
       "      <th>sex_ratio</th>\n",
       "      <th>manner</th>\n",
       "      <th>atoms</th>\n",
       "    </tr>\n",
       "  </thead>\n",
       "  <tbody>\n",
       "    <tr>\n",
       "      <th>0</th>\n",
       "      <td>23ku</td>\n",
       "      <td>株式会社エフオープランニング本社</td>\n",
       "      <td>渋谷駅</td>\n",
       "      <td>sales</td>\n",
       "      <td>時給</td>\n",
       "      <td>1500</td>\n",
       "      <td>9.0</td>\n",
       "      <td>22.0</td>\n",
       "      <td>1</td>\n",
       "      <td>1</td>\n",
       "      <td>...</td>\n",
       "      <td>1</td>\n",
       "      <td>1</td>\n",
       "      <td>0.0</td>\n",
       "      <td>1.0</td>\n",
       "      <td>1.0</td>\n",
       "      <td>0.0</td>\n",
       "      <td>0.0</td>\n",
       "      <td>0.75</td>\n",
       "      <td>0.75</td>\n",
       "      <td>1.00</td>\n",
       "    </tr>\n",
       "    <tr>\n",
       "      <th>1</th>\n",
       "      <td>23ku</td>\n",
       "      <td>株式会社エフオープランニング本社</td>\n",
       "      <td>秋葉原駅</td>\n",
       "      <td>sales</td>\n",
       "      <td>時給</td>\n",
       "      <td>1600</td>\n",
       "      <td>9.0</td>\n",
       "      <td>22.0</td>\n",
       "      <td>1</td>\n",
       "      <td>1</td>\n",
       "      <td>...</td>\n",
       "      <td>0</td>\n",
       "      <td>1</td>\n",
       "      <td>0.0</td>\n",
       "      <td>1.0</td>\n",
       "      <td>1.0</td>\n",
       "      <td>0.0</td>\n",
       "      <td>0.0</td>\n",
       "      <td>0.75</td>\n",
       "      <td>0.75</td>\n",
       "      <td>1.00</td>\n",
       "    </tr>\n",
       "    <tr>\n",
       "      <th>2</th>\n",
       "      <td>23ku</td>\n",
       "      <td>株式会社エフオープランニング本社</td>\n",
       "      <td>上野駅</td>\n",
       "      <td>sales</td>\n",
       "      <td>時給</td>\n",
       "      <td>1600</td>\n",
       "      <td>9.0</td>\n",
       "      <td>22.0</td>\n",
       "      <td>1</td>\n",
       "      <td>1</td>\n",
       "      <td>...</td>\n",
       "      <td>0</td>\n",
       "      <td>1</td>\n",
       "      <td>0.0</td>\n",
       "      <td>1.0</td>\n",
       "      <td>1.0</td>\n",
       "      <td>0.0</td>\n",
       "      <td>0.0</td>\n",
       "      <td>0.75</td>\n",
       "      <td>0.75</td>\n",
       "      <td>1.00</td>\n",
       "    </tr>\n",
       "    <tr>\n",
       "      <th>3</th>\n",
       "      <td>23ku</td>\n",
       "      <td>株式会社エフオープランニング本社</td>\n",
       "      <td>秋葉原駅</td>\n",
       "      <td>sales</td>\n",
       "      <td>時給</td>\n",
       "      <td>1300</td>\n",
       "      <td>7.5</td>\n",
       "      <td>21.0</td>\n",
       "      <td>0</td>\n",
       "      <td>1</td>\n",
       "      <td>...</td>\n",
       "      <td>1</td>\n",
       "      <td>1</td>\n",
       "      <td>0.0</td>\n",
       "      <td>1.0</td>\n",
       "      <td>1.0</td>\n",
       "      <td>0.0</td>\n",
       "      <td>0.0</td>\n",
       "      <td>0.00</td>\n",
       "      <td>0.50</td>\n",
       "      <td>0.50</td>\n",
       "    </tr>\n",
       "    <tr>\n",
       "      <th>4</th>\n",
       "      <td>23ku</td>\n",
       "      <td>オリジナルパンケーキハウス　有明ガーデンシティ店</td>\n",
       "      <td>有明駅</td>\n",
       "      <td>sales</td>\n",
       "      <td>時給</td>\n",
       "      <td>1200</td>\n",
       "      <td>9.0</td>\n",
       "      <td>0.0</td>\n",
       "      <td>0</td>\n",
       "      <td>0</td>\n",
       "      <td>...</td>\n",
       "      <td>1</td>\n",
       "      <td>1</td>\n",
       "      <td>NaN</td>\n",
       "      <td>NaN</td>\n",
       "      <td>NaN</td>\n",
       "      <td>NaN</td>\n",
       "      <td>NaN</td>\n",
       "      <td>NaN</td>\n",
       "      <td>0.75</td>\n",
       "      <td>0.75</td>\n",
       "    </tr>\n",
       "  </tbody>\n",
       "</table>\n",
       "<p>5 rows × 25 columns</p>\n",
       "</div>"
      ],
      "text/plain": [
       "   city                      corp station occupation pay_form  pay_qty  \\\n",
       "0  23ku          株式会社エフオープランニング本社     渋谷駅      sales       時給     1500   \n",
       "1  23ku          株式会社エフオープランニング本社    秋葉原駅      sales       時給     1600   \n",
       "2  23ku          株式会社エフオープランニング本社     上野駅      sales       時給     1600   \n",
       "3  23ku          株式会社エフオープランニング本社    秋葉原駅      sales       時給     1300   \n",
       "4  23ku  オリジナルパンケーキハウス　有明ガーデンシティ店     有明駅      sales       時給     1200   \n",
       "\n",
       "   start_time  end_time  daily_paid  weekly_paid  ...  inexperienced  \\\n",
       "0         9.0      22.0           1            1  ...              1   \n",
       "1         9.0      22.0           1            1  ...              0   \n",
       "2         9.0      22.0           1            1  ...              0   \n",
       "3         7.5      21.0           0            1  ...              1   \n",
       "4         9.0       0.0           0            0  ...              1   \n",
       "\n",
       "   transport  age_10  age_20  age_30  age_40  age_50  sex_ratio  manner  atoms  \n",
       "0          1     0.0     1.0     1.0     0.0     0.0       0.75    0.75   1.00  \n",
       "1          1     0.0     1.0     1.0     0.0     0.0       0.75    0.75   1.00  \n",
       "2          1     0.0     1.0     1.0     0.0     0.0       0.75    0.75   1.00  \n",
       "3          1     0.0     1.0     1.0     0.0     0.0       0.00    0.50   0.50  \n",
       "4          1     NaN     NaN     NaN     NaN     NaN        NaN    0.75   0.75  \n",
       "\n",
       "[5 rows x 25 columns]"
      ]
     },
     "execution_count": 12,
     "metadata": {},
     "output_type": "execute_result"
    }
   ],
   "source": [
    "df.head()"
   ]
  },
  {
   "cell_type": "code",
   "execution_count": 13,
   "metadata": {},
   "outputs": [],
   "source": [
    "# 職種のみ違う、重複した行を削除する\n",
    "# 新たなリストに格納する\n",
    "df_single = df[~df.drop([\"occupation\"], axis=1).duplicated()]\n",
    "df_single.reset_index(inplace=True, drop=True)"
   ]
  },
  {
   "cell_type": "code",
   "execution_count": 14,
   "metadata": {},
   "outputs": [
    {
     "name": "stdout",
     "output_type": "stream",
     "text": [
      "(26904, 25) (17331, 25)\n"
     ]
    }
   ],
   "source": [
    "print(df.shape, df_single.shape)"
   ]
  },
  {
   "cell_type": "markdown",
   "metadata": {},
   "source": [
    "職種に関係する分析にはdfを用い、職種に関係しない分析にはdf_singleを用いる"
   ]
  },
  {
   "cell_type": "markdown",
   "metadata": {},
   "source": [
    "## 2. EDA(探索的データ解析)をする"
   ]
  },
  {
   "cell_type": "markdown",
   "metadata": {},
   "source": [
    "アルバイト数の比較（人口比）"
   ]
  },
  {
   "cell_type": "code",
   "execution_count": 15,
   "metadata": {},
   "outputs": [],
   "source": [
    "sample_size = [len(df_single[(df_single[\"pay_form\"]==\"時給\") & (df_single[\"city\"]==city_name[i])]) for i in range(len(city_name))]"
   ]
  },
  {
   "cell_type": "code",
   "execution_count": 16,
   "metadata": {},
   "outputs": [
    {
     "data": {
      "text/plain": [
       "Text(0.5, 1.0, 'the number of part time job')"
      ]
     },
     "execution_count": 16,
     "metadata": {},
     "output_type": "execute_result"
    },
    {
     "data": {
      "image/png": "[encoded data removed]",
      "text/plain": [
       "<Figure size 432x288 with 1 Axes>"
      ]
     },
     "metadata": {
      "needs_background": "light"
     },
     "output_type": "display_data"
    }
   ],
   "source": [
    "plt.bar(city_name, sample_size)\n",
    "plt.xlabel(\"city name\")\n",
    "plt.ylabel(\"sample size\")\n",
    "plt.title(\"the number of part time job\")"
   ]
  },
  {
   "cell_type": "markdown",
   "metadata": {},
   "source": [
    "給与金額の比較"
   ]
  },
  {
   "cell_type": "code",
   "execution_count": 17,
   "metadata": {},
   "outputs": [
    {
     "data": {
      "text/plain": [
       "時給                22809\n",
       "日給                 3330\n",
       "月給                  263\n",
       "1コマ　                119\n",
       "1コマあたり：              68\n",
       "1コマ（80分）：            61\n",
       "1コマ                  61\n",
       "1コマ（90分）             52\n",
       "1コマ（95分）             44\n",
       "コマ給（80分）1780～        44\n",
       "1授業(80分)/            25\n",
       "コマ給（80分）1680～         8\n",
       "1コマ(95分)：             7\n",
       "●1コマ(90分)/            3\n",
       "1レッスン（90分）            3\n",
       "1コマ(60分)：1300～        1\n",
       "1コマ(90分)              1\n",
       "1授業（90分・1対2）          1\n",
       "1授業(90分)              1\n",
       "1コマ（80分）              1\n",
       "Name: pay_form, dtype: int64"
      ]
     },
     "execution_count": 17,
     "metadata": {},
     "output_type": "execute_result"
    }
   ],
   "source": [
    "df['pay_form'].value_counts()"
   ]
  },
  {
   "cell_type": "code",
   "execution_count": 18,
   "metadata": {},
   "outputs": [
    {
     "data": {
      "text/plain": [
       "<matplotlib.axes._subplots.AxesSubplot at 0x1a1d9477d0>"
      ]
     },
     "execution_count": 18,
     "metadata": {},
     "output_type": "execute_result"
    },
    {
     "data": {
      "image/png": "[encoded data removed]",
      "text/plain": [
       "<Figure size 432x288 with 1 Axes>"
      ]
     },
     "metadata": {
      "needs_background": "light"
     },
     "output_type": "display_data"
    }
   ],
   "source": [
    "# 時給制のバイトに限定する\n",
    "sns.boxplot(x=\"city\", y=\"pay_qty\", data=df_single[df_single[\"pay_form\"]==\"時給\"], showfliers=False, showmeans=True, meanline=True, palette=\"Set3\", whis=0.2)"
   ]
  },
  {
   "cell_type": "code",
   "execution_count": 19,
   "metadata": {},
   "outputs": [
    {
     "data": {
      "text/plain": [
       "<matplotlib.axes._subplots.AxesSubplot at 0x1a1d9b9810>"
      ]
     },
     "execution_count": 19,
     "metadata": {},
     "output_type": "execute_result"
    },
    {
     "data": {
      "image/png": "[encoded data removed]",
      "text/plain": [
       "<Figure size 432x288 with 1 Axes>"
      ]
     },
     "metadata": {
      "needs_background": "light"
     },
     "output_type": "display_data"
    }
   ],
   "source": [
    "# 職種を絞ってみる\n",
    "sns.boxplot(x=\"city\", y=\"pay_qty\", data=df[(df[\"pay_form\"]==\"時給\") & (df[\"occupation\"]==\"nightwork\")], showfliers=False, showmeans=True, meanline=True, palette=\"Set3\", whis=100)"
   ]
  },
  {
   "cell_type": "code",
   "execution_count": 20,
   "metadata": {},
   "outputs": [
    {
     "data": {
      "text/html": [
       "<div>\n",
       "<style scoped>\n",
       "    .dataframe tbody tr th:only-of-type {\n",
       "        vertical-align: middle;\n",
       "    }\n",
       "\n",
       "    .dataframe tbody tr th {\n",
       "        vertical-align: top;\n",
       "    }\n",
       "\n",
       "    .dataframe thead th {\n",
       "        text-align: right;\n",
       "    }\n",
       "</style>\n",
       "<table border=\"1\" class=\"dataframe\">\n",
       "  <thead>\n",
       "    <tr style=\"text-align: right;\">\n",
       "      <th></th>\n",
       "      <th>city</th>\n",
       "      <th>corp</th>\n",
       "      <th>station</th>\n",
       "      <th>occupation</th>\n",
       "      <th>pay_form</th>\n",
       "      <th>pay_qty</th>\n",
       "      <th>start_time</th>\n",
       "      <th>end_time</th>\n",
       "      <th>daily_paid</th>\n",
       "      <th>weekly_paid</th>\n",
       "      <th>...</th>\n",
       "      <th>inexperienced</th>\n",
       "      <th>transport</th>\n",
       "      <th>age_10</th>\n",
       "      <th>age_20</th>\n",
       "      <th>age_30</th>\n",
       "      <th>age_40</th>\n",
       "      <th>age_50</th>\n",
       "      <th>sex_ratio</th>\n",
       "      <th>manner</th>\n",
       "      <th>atoms</th>\n",
       "    </tr>\n",
       "  </thead>\n",
       "  <tbody>\n",
       "    <tr>\n",
       "      <th>14250</th>\n",
       "      <td>23ku</td>\n",
       "      <td>SNBカフェ　オリーブ（Olive Shinbashi）</td>\n",
       "      <td>銀座駅</td>\n",
       "      <td>nightwork</td>\n",
       "      <td>時給</td>\n",
       "      <td>3500</td>\n",
       "      <td>13.0</td>\n",
       "      <td>1.0</td>\n",
       "      <td>1</td>\n",
       "      <td>1</td>\n",
       "      <td>...</td>\n",
       "      <td>1</td>\n",
       "      <td>1</td>\n",
       "      <td>1.0</td>\n",
       "      <td>1.0</td>\n",
       "      <td>0.0</td>\n",
       "      <td>0.0</td>\n",
       "      <td>0.0</td>\n",
       "      <td>0.75</td>\n",
       "      <td>0.50</td>\n",
       "      <td>0.50</td>\n",
       "    </tr>\n",
       "    <tr>\n",
       "      <th>14251</th>\n",
       "      <td>23ku</td>\n",
       "      <td>Chou Chou SNB （シュシュ新橋SL店）</td>\n",
       "      <td>新橋駅</td>\n",
       "      <td>nightwork</td>\n",
       "      <td>時給</td>\n",
       "      <td>4200</td>\n",
       "      <td>13.0</td>\n",
       "      <td>23.5</td>\n",
       "      <td>1</td>\n",
       "      <td>0</td>\n",
       "      <td>...</td>\n",
       "      <td>1</td>\n",
       "      <td>1</td>\n",
       "      <td>1.0</td>\n",
       "      <td>1.0</td>\n",
       "      <td>0.0</td>\n",
       "      <td>0.0</td>\n",
       "      <td>0.0</td>\n",
       "      <td>0.75</td>\n",
       "      <td>0.25</td>\n",
       "      <td>0.75</td>\n",
       "    </tr>\n",
       "    <tr>\n",
       "      <th>14252</th>\n",
       "      <td>23ku</td>\n",
       "      <td>資格系女子カフェ　ジョイナス秋葉原店</td>\n",
       "      <td>秋葉原駅</td>\n",
       "      <td>nightwork</td>\n",
       "      <td>時給</td>\n",
       "      <td>3500</td>\n",
       "      <td>13.0</td>\n",
       "      <td>1.0</td>\n",
       "      <td>1</td>\n",
       "      <td>0</td>\n",
       "      <td>...</td>\n",
       "      <td>1</td>\n",
       "      <td>1</td>\n",
       "      <td>1.0</td>\n",
       "      <td>1.0</td>\n",
       "      <td>0.0</td>\n",
       "      <td>0.0</td>\n",
       "      <td>0.0</td>\n",
       "      <td>1.00</td>\n",
       "      <td>0.50</td>\n",
       "      <td>0.50</td>\n",
       "    </tr>\n",
       "    <tr>\n",
       "      <th>14253</th>\n",
       "      <td>23ku</td>\n",
       "      <td>AKB女子大生コンカフェ　シュシュ秋葉原店（Chou Chou Akihabara）</td>\n",
       "      <td>秋葉原駅</td>\n",
       "      <td>nightwork</td>\n",
       "      <td>時給</td>\n",
       "      <td>4200</td>\n",
       "      <td>18.0</td>\n",
       "      <td>0.0</td>\n",
       "      <td>1</td>\n",
       "      <td>0</td>\n",
       "      <td>...</td>\n",
       "      <td>1</td>\n",
       "      <td>1</td>\n",
       "      <td>1.0</td>\n",
       "      <td>1.0</td>\n",
       "      <td>0.0</td>\n",
       "      <td>0.0</td>\n",
       "      <td>0.0</td>\n",
       "      <td>1.00</td>\n",
       "      <td>0.50</td>\n",
       "      <td>0.75</td>\n",
       "    </tr>\n",
       "    <tr>\n",
       "      <th>14254</th>\n",
       "      <td>23ku</td>\n",
       "      <td>資格系女子カフェ　ジョイナス上野（Joynurse Ueno）</td>\n",
       "      <td>上野駅</td>\n",
       "      <td>nightwork</td>\n",
       "      <td>時給</td>\n",
       "      <td>3500</td>\n",
       "      <td>13.5</td>\n",
       "      <td>1.0</td>\n",
       "      <td>1</td>\n",
       "      <td>0</td>\n",
       "      <td>...</td>\n",
       "      <td>1</td>\n",
       "      <td>1</td>\n",
       "      <td>1.0</td>\n",
       "      <td>1.0</td>\n",
       "      <td>0.0</td>\n",
       "      <td>0.0</td>\n",
       "      <td>0.0</td>\n",
       "      <td>1.00</td>\n",
       "      <td>0.50</td>\n",
       "      <td>0.50</td>\n",
       "    </tr>\n",
       "    <tr>\n",
       "      <th>...</th>\n",
       "      <td>...</td>\n",
       "      <td>...</td>\n",
       "      <td>...</td>\n",
       "      <td>...</td>\n",
       "      <td>...</td>\n",
       "      <td>...</td>\n",
       "      <td>...</td>\n",
       "      <td>...</td>\n",
       "      <td>...</td>\n",
       "      <td>...</td>\n",
       "      <td>...</td>\n",
       "      <td>...</td>\n",
       "      <td>...</td>\n",
       "      <td>...</td>\n",
       "      <td>...</td>\n",
       "      <td>...</td>\n",
       "      <td>...</td>\n",
       "      <td>...</td>\n",
       "      <td>...</td>\n",
       "      <td>...</td>\n",
       "      <td>...</td>\n",
       "    </tr>\n",
       "    <tr>\n",
       "      <th>14603</th>\n",
       "      <td>23ku</td>\n",
       "      <td>Girl's Bar Carino</td>\n",
       "      <td>中目黒駅</td>\n",
       "      <td>nightwork</td>\n",
       "      <td>時給</td>\n",
       "      <td>2000</td>\n",
       "      <td>20.0</td>\n",
       "      <td>5.0</td>\n",
       "      <td>1</td>\n",
       "      <td>1</td>\n",
       "      <td>...</td>\n",
       "      <td>1</td>\n",
       "      <td>0</td>\n",
       "      <td>1.0</td>\n",
       "      <td>1.0</td>\n",
       "      <td>1.0</td>\n",
       "      <td>0.0</td>\n",
       "      <td>0.0</td>\n",
       "      <td>1.00</td>\n",
       "      <td>0.75</td>\n",
       "      <td>0.75</td>\n",
       "    </tr>\n",
       "    <tr>\n",
       "      <th>14604</th>\n",
       "      <td>23ku</td>\n",
       "      <td>美妃―ミキ―</td>\n",
       "      <td>野方駅</td>\n",
       "      <td>nightwork</td>\n",
       "      <td>時給</td>\n",
       "      <td>1500</td>\n",
       "      <td>19.0</td>\n",
       "      <td>5.0</td>\n",
       "      <td>1</td>\n",
       "      <td>0</td>\n",
       "      <td>...</td>\n",
       "      <td>1</td>\n",
       "      <td>0</td>\n",
       "      <td>0.0</td>\n",
       "      <td>1.0</td>\n",
       "      <td>1.0</td>\n",
       "      <td>0.0</td>\n",
       "      <td>0.0</td>\n",
       "      <td>1.00</td>\n",
       "      <td>0.75</td>\n",
       "      <td>1.00</td>\n",
       "    </tr>\n",
       "    <tr>\n",
       "      <th>14605</th>\n",
       "      <td>23ku</td>\n",
       "      <td>Girls Bar Jack Rose~ジャックローズ ~</td>\n",
       "      <td>大井町駅</td>\n",
       "      <td>nightwork</td>\n",
       "      <td>時給</td>\n",
       "      <td>2000</td>\n",
       "      <td>20.0</td>\n",
       "      <td>5.0</td>\n",
       "      <td>1</td>\n",
       "      <td>1</td>\n",
       "      <td>...</td>\n",
       "      <td>1</td>\n",
       "      <td>0</td>\n",
       "      <td>1.0</td>\n",
       "      <td>1.0</td>\n",
       "      <td>1.0</td>\n",
       "      <td>0.0</td>\n",
       "      <td>0.0</td>\n",
       "      <td>0.75</td>\n",
       "      <td>0.50</td>\n",
       "      <td>0.50</td>\n",
       "    </tr>\n",
       "    <tr>\n",
       "      <th>14606</th>\n",
       "      <td>23ku</td>\n",
       "      <td>Girls Bar ルクール</td>\n",
       "      <td>赤羽駅</td>\n",
       "      <td>nightwork</td>\n",
       "      <td>時給</td>\n",
       "      <td>2800</td>\n",
       "      <td>20.0</td>\n",
       "      <td>5.0</td>\n",
       "      <td>1</td>\n",
       "      <td>1</td>\n",
       "      <td>...</td>\n",
       "      <td>1</td>\n",
       "      <td>0</td>\n",
       "      <td>1.0</td>\n",
       "      <td>1.0</td>\n",
       "      <td>1.0</td>\n",
       "      <td>0.0</td>\n",
       "      <td>0.0</td>\n",
       "      <td>0.75</td>\n",
       "      <td>0.50</td>\n",
       "      <td>0.50</td>\n",
       "    </tr>\n",
       "    <tr>\n",
       "      <th>14607</th>\n",
       "      <td>23ku</td>\n",
       "      <td>Girl's Cafe&amp;Bar flower(フラワー)</td>\n",
       "      <td>赤羽駅</td>\n",
       "      <td>nightwork</td>\n",
       "      <td>時給</td>\n",
       "      <td>2500</td>\n",
       "      <td>15.0</td>\n",
       "      <td>5.0</td>\n",
       "      <td>1</td>\n",
       "      <td>1</td>\n",
       "      <td>...</td>\n",
       "      <td>1</td>\n",
       "      <td>1</td>\n",
       "      <td>1.0</td>\n",
       "      <td>1.0</td>\n",
       "      <td>1.0</td>\n",
       "      <td>0.0</td>\n",
       "      <td>0.0</td>\n",
       "      <td>1.00</td>\n",
       "      <td>1.00</td>\n",
       "      <td>0.50</td>\n",
       "    </tr>\n",
       "  </tbody>\n",
       "</table>\n",
       "<p>349 rows × 25 columns</p>\n",
       "</div>"
      ],
      "text/plain": [
       "       city                                        corp station occupation  \\\n",
       "14250  23ku                SNBカフェ　オリーブ（Olive Shinbashi）     銀座駅  nightwork   \n",
       "14251  23ku                   Chou Chou SNB （シュシュ新橋SL店）     新橋駅  nightwork   \n",
       "14252  23ku                          資格系女子カフェ　ジョイナス秋葉原店    秋葉原駅  nightwork   \n",
       "14253  23ku  AKB女子大生コンカフェ　シュシュ秋葉原店（Chou Chou Akihabara）    秋葉原駅  nightwork   \n",
       "14254  23ku             資格系女子カフェ　ジョイナス上野（Joynurse Ueno）     上野駅  nightwork   \n",
       "...     ...                                         ...     ...        ...   \n",
       "14603  23ku                           Girl's Bar Carino    中目黒駅  nightwork   \n",
       "14604  23ku                                      美妃―ミキ―     野方駅  nightwork   \n",
       "14605  23ku               Girls Bar Jack Rose~ジャックローズ ~    大井町駅  nightwork   \n",
       "14606  23ku                              Girls Bar ルクール     赤羽駅  nightwork   \n",
       "14607  23ku                Girl's Cafe&Bar flower(フラワー)     赤羽駅  nightwork   \n",
       "\n",
       "      pay_form  pay_qty  start_time  end_time  daily_paid  weekly_paid  ...  \\\n",
       "14250       時給     3500        13.0       1.0           1            1  ...   \n",
       "14251       時給     4200        13.0      23.5           1            0  ...   \n",
       "14252       時給     3500        13.0       1.0           1            0  ...   \n",
       "14253       時給     4200        18.0       0.0           1            0  ...   \n",
       "14254       時給     3500        13.5       1.0           1            0  ...   \n",
       "...        ...      ...         ...       ...         ...          ...  ...   \n",
       "14603       時給     2000        20.0       5.0           1            1  ...   \n",
       "14604       時給     1500        19.0       5.0           1            0  ...   \n",
       "14605       時給     2000        20.0       5.0           1            1  ...   \n",
       "14606       時給     2800        20.0       5.0           1            1  ...   \n",
       "14607       時給     2500        15.0       5.0           1            1  ...   \n",
       "\n",
       "       inexperienced  transport  age_10  age_20  age_30  age_40  age_50  \\\n",
       "14250              1          1     1.0     1.0     0.0     0.0     0.0   \n",
       "14251              1          1     1.0     1.0     0.0     0.0     0.0   \n",
       "14252              1          1     1.0     1.0     0.0     0.0     0.0   \n",
       "14253              1          1     1.0     1.0     0.0     0.0     0.0   \n",
       "14254              1          1     1.0     1.0     0.0     0.0     0.0   \n",
       "...              ...        ...     ...     ...     ...     ...     ...   \n",
       "14603              1          0     1.0     1.0     1.0     0.0     0.0   \n",
       "14604              1          0     0.0     1.0     1.0     0.0     0.0   \n",
       "14605              1          0     1.0     1.0     1.0     0.0     0.0   \n",
       "14606              1          0     1.0     1.0     1.0     0.0     0.0   \n",
       "14607              1          1     1.0     1.0     1.0     0.0     0.0   \n",
       "\n",
       "       sex_ratio  manner  atoms  \n",
       "14250       0.75    0.50   0.50  \n",
       "14251       0.75    0.25   0.75  \n",
       "14252       1.00    0.50   0.50  \n",
       "14253       1.00    0.50   0.75  \n",
       "14254       1.00    0.50   0.50  \n",
       "...          ...     ...    ...  \n",
       "14603       1.00    0.75   0.75  \n",
       "14604       1.00    0.75   1.00  \n",
       "14605       0.75    0.50   0.50  \n",
       "14606       0.75    0.50   0.50  \n",
       "14607       1.00    1.00   0.50  \n",
       "\n",
       "[349 rows x 25 columns]"
      ]
     },
     "execution_count": 20,
     "metadata": {},
     "output_type": "execute_result"
    }
   ],
   "source": [
    "df[(df[\"pay_form\"]==\"時給\") & (df[\"occupation\"]==\"nightwork\") & (df['city']=='23ku')]"
   ]
  },
  {
   "cell_type": "code",
   "execution_count": 21,
   "metadata": {},
   "outputs": [
    {
     "name": "stdout",
     "output_type": "stream",
     "text": [
      "23ku\n",
      "sample size : 12668\n",
      "count     7750.000000\n",
      "mean      1270.168000\n",
      "std        462.657104\n",
      "min       1013.000000\n",
      "25%       1050.000000\n",
      "50%       1100.000000\n",
      "75%       1300.000000\n",
      "max      10000.000000\n",
      "Name: pay_qty, dtype: float64\n",
      "\n",
      "nagoya\n",
      "sample size : 2141\n",
      "count    1561.000000\n",
      "mean     1153.499680\n",
      "std       355.325225\n",
      "min       926.000000\n",
      "25%       950.000000\n",
      "50%      1000.000000\n",
      "75%      1200.000000\n",
      "max      4000.000000\n",
      "Name: pay_qty, dtype: float64\n",
      "\n",
      "osaka\n",
      "sample size : 217\n",
      "count    2667.000000\n",
      "mean     1310.479940\n",
      "std       601.458807\n",
      "min       964.000000\n",
      "25%      1000.000000\n",
      "50%      1100.000000\n",
      "75%      1500.000000\n",
      "max      8000.000000\n",
      "Name: pay_qty, dtype: float64\n",
      "\n",
      "saitama\n",
      "sample size : 0\n",
      "count     760.000000\n",
      "mean     1090.430263\n",
      "std       247.719997\n",
      "min       926.000000\n",
      "25%       950.000000\n",
      "50%      1000.000000\n",
      "75%      1100.000000\n",
      "max      2666.000000\n",
      "Name: pay_qty, dtype: float64\n",
      "\n",
      "yokohama\n",
      "sample size : 0\n",
      "count    2288.000000\n",
      "mean     1210.851836\n",
      "std       357.889902\n",
      "min      1011.000000\n",
      "25%      1020.000000\n",
      "50%      1050.000000\n",
      "75%      1249.000000\n",
      "max      5000.000000\n",
      "Name: pay_qty, dtype: float64\n",
      "\n"
     ]
    },
    {
     "name": "stderr",
     "output_type": "stream",
     "text": [
      "/Users/tamuramasayuki/opt/anaconda3/lib/python3.7/site-packages/ipykernel_launcher.py:3: UserWarning: Boolean Series key will be reindexed to match DataFrame index.\n",
      "  This is separate from the ipykernel package so we can avoid doing imports until\n"
     ]
    }
   ],
   "source": [
    "for i in range(len(city_name)):\n",
    "    print(city_name[i])\n",
    "    print(\"sample size : {}\".format(len(df_single[(df_single[\"pay_form\"]==\"時給\") & (df[\"city\"]==city_name[i])])))\n",
    "    print(df_single[(df_single[\"pay_form\"]==\"時給\") & (df_single[\"city\"]==city_name[i])][\"pay_qty\"].describe())\n",
    "    print(\"\")"
   ]
  },
  {
   "cell_type": "markdown",
   "metadata": {},
   "source": [
    "なぜ大阪市の四分位範囲が広いのか"
   ]
  },
  {
   "cell_type": "markdown",
   "metadata": {},
   "source": [
    "都市ごとに最低賃金を下回っている割合を出す\n",
    "\n",
    "最低賃金\n",
    "\n",
    "東京都：1,013円、愛知県：926円、大阪府：964円、埼玉県：926円、神奈川県：1,011円"
   ]
  },
  {
   "cell_type": "code",
   "execution_count": 22,
   "metadata": {},
   "outputs": [
    {
     "name": "stdout",
     "output_type": "stream",
     "text": [
      "(22809, 25)\n"
     ]
    }
   ],
   "source": [
    "df_hour = df[df['pay_form']=='時給']\n",
    "print(df_hour.shape)"
   ]
  },
  {
   "cell_type": "markdown",
   "metadata": {},
   "source": [
    "2σを基準に外れ値を除く"
   ]
  },
  {
   "cell_type": "code",
   "execution_count": 1,
   "metadata": {},
   "outputs": [
    {
     "output_type": "error",
     "ename": "NameError",
     "evalue": "name 'df_hour' is not defined",
     "traceback": [
      "\u001b[0;31m---------------------------------------------------------------------------\u001b[0m",
      "\u001b[0;31mNameError\u001b[0m                                 Traceback (most recent call last)",
      "\u001b[0;32m<ipython-input-1-6b4a5d78e4b1>\u001b[0m in \u001b[0;36m<module>\u001b[0;34m\u001b[0m\n\u001b[0;32m----> 1\u001b[0;31m \u001b[0mpay_qty_mean\u001b[0m \u001b[0;34m=\u001b[0m \u001b[0mdf_hour\u001b[0m\u001b[0;34m.\u001b[0m\u001b[0mgroupby\u001b[0m\u001b[0;34m(\u001b[0m\u001b[0;34m'city'\u001b[0m\u001b[0;34m)\u001b[0m\u001b[0;34m[\u001b[0m\u001b[0;34m'pay_qty'\u001b[0m\u001b[0;34m]\u001b[0m\u001b[0;34m.\u001b[0m\u001b[0mmean\u001b[0m\u001b[0;34m(\u001b[0m\u001b[0;34m)\u001b[0m\u001b[0;34m\u001b[0m\u001b[0;34m\u001b[0m\u001b[0m\n\u001b[0m\u001b[1;32m      2\u001b[0m \u001b[0mpay_qty_std\u001b[0m \u001b[0;34m=\u001b[0m \u001b[0mdf_hour\u001b[0m\u001b[0;34m.\u001b[0m\u001b[0mgroupby\u001b[0m\u001b[0;34m(\u001b[0m\u001b[0;34m'city'\u001b[0m\u001b[0;34m)\u001b[0m\u001b[0;34m[\u001b[0m\u001b[0;34m'pay_qty'\u001b[0m\u001b[0;34m]\u001b[0m\u001b[0;34m.\u001b[0m\u001b[0mstd\u001b[0m\u001b[0;34m(\u001b[0m\u001b[0;34m)\u001b[0m\u001b[0;34m\u001b[0m\u001b[0;34m\u001b[0m\u001b[0m\n\u001b[1;32m      3\u001b[0m \u001b[0moutlier_max\u001b[0m \u001b[0;34m=\u001b[0m \u001b[0mpay_qty_mean\u001b[0m \u001b[0;34m+\u001b[0m \u001b[0;34m(\u001b[0m\u001b[0mpay_qty_std\u001b[0m\u001b[0;34m)\u001b[0m \u001b[0;34m*\u001b[0m \u001b[0;36m2\u001b[0m\u001b[0;34m\u001b[0m\u001b[0;34m\u001b[0m\u001b[0m\n",
      "\u001b[0;31mNameError\u001b[0m: name 'df_hour' is not defined"
     ]
    }
   ],
   "source": [
    "pay_qty_mean = df_hour.groupby('city')['pay_qty'].mean()\n",
    "pay_qty_std = df_hour.groupby('city')['pay_qty'].std()\n",
    "outlier_max = pay_qty_mean + (pay_qty_std) * 2"
   ]
  },
  {
   "cell_type": "code",
   "execution_count": 2,
   "metadata": {},
   "outputs": [
    {
     "output_type": "error",
     "ename": "NameError",
     "evalue": "name 'pay_qty_std' is not defined",
     "traceback": [
      "\u001b[0;31m---------------------------------------------------------------------------\u001b[0m",
      "\u001b[0;31mNameError\u001b[0m                                 Traceback (most recent call last)",
      "\u001b[0;32m<ipython-input-2-2d16d886e6c3>\u001b[0m in \u001b[0;36m<module>\u001b[0;34m\u001b[0m\n\u001b[0;32m----> 1\u001b[0;31m \u001b[0mpay_qty_std\u001b[0m\u001b[0;34m\u001b[0m\u001b[0;34m\u001b[0m\u001b[0m\n\u001b[0m",
      "\u001b[0;31mNameError\u001b[0m: name 'pay_qty_std' is not defined"
     ]
    }
   ],
   "source": [
    "pay_qty_std"
   ]
  },
  {
   "cell_type": "code",
   "execution_count": 3,
   "metadata": {},
   "outputs": [
    {
     "output_type": "error",
     "ename": "NameError",
     "evalue": "name 'outlier_max' is not defined",
     "traceback": [
      "\u001b[0;31m---------------------------------------------------------------------------\u001b[0m",
      "\u001b[0;31mNameError\u001b[0m                                 Traceback (most recent call last)",
      "\u001b[0;32m<ipython-input-3-71de3baa746a>\u001b[0m in \u001b[0;36m<module>\u001b[0;34m\u001b[0m\n\u001b[0;32m----> 1\u001b[0;31m \u001b[0moutlier_max\u001b[0m\u001b[0;34m\u001b[0m\u001b[0;34m\u001b[0m\u001b[0m\n\u001b[0m",
      "\u001b[0;31mNameError\u001b[0m: name 'outlier_max' is not defined"
     ]
    }
   ],
   "source": [
    "outlier_max"
   ]
  },
  {
   "cell_type": "code",
   "execution_count": 4,
   "metadata": {},
   "outputs": [
    {
     "output_type": "error",
     "ename": "NameError",
     "evalue": "name 'pd' is not defined",
     "traceback": [
      "\u001b[0;31m---------------------------------------------------------------------------\u001b[0m",
      "\u001b[0;31mNameError\u001b[0m                                 Traceback (most recent call last)",
      "\u001b[0;32m<ipython-input-4-11327b756643>\u001b[0m in \u001b[0;36m<module>\u001b[0;34m\u001b[0m\n\u001b[0;32m----> 1\u001b[0;31m \u001b[0mdf_hour_minwage\u001b[0m \u001b[0;34m=\u001b[0m \u001b[0mpd\u001b[0m\u001b[0;34m.\u001b[0m\u001b[0mDataFrame\u001b[0m\u001b[0;34m(\u001b[0m\u001b[0mcolumns\u001b[0m\u001b[0;34m=\u001b[0m\u001b[0mdf\u001b[0m\u001b[0;34m.\u001b[0m\u001b[0mcolumns\u001b[0m\u001b[0;34m)\u001b[0m\u001b[0;34m\u001b[0m\u001b[0;34m\u001b[0m\u001b[0m\n\u001b[0m\u001b[1;32m      2\u001b[0m \u001b[0;32mfor\u001b[0m \u001b[0mname\u001b[0m \u001b[0;32min\u001b[0m \u001b[0mcity_name\u001b[0m\u001b[0;34m:\u001b[0m\u001b[0;34m\u001b[0m\u001b[0;34m\u001b[0m\u001b[0m\n\u001b[1;32m      3\u001b[0m     \u001b[0mtemp\u001b[0m \u001b[0;34m=\u001b[0m \u001b[0mdf_hour\u001b[0m\u001b[0;34m[\u001b[0m\u001b[0;34m(\u001b[0m\u001b[0mdf_hour\u001b[0m\u001b[0;34m[\u001b[0m\u001b[0;34m'city'\u001b[0m\u001b[0;34m]\u001b[0m\u001b[0;34m==\u001b[0m\u001b[0mname\u001b[0m\u001b[0;34m)\u001b[0m \u001b[0;34m&\u001b[0m \u001b[0;34m(\u001b[0m\u001b[0mdf_hour\u001b[0m\u001b[0;34m[\u001b[0m\u001b[0;34m'pay_qty'\u001b[0m\u001b[0;34m]\u001b[0m\u001b[0;34m<=\u001b[0m\u001b[0moutlier_max\u001b[0m\u001b[0;34m[\u001b[0m\u001b[0mname\u001b[0m\u001b[0;34m]\u001b[0m\u001b[0;34m)\u001b[0m\u001b[0;34m]\u001b[0m\u001b[0;34m\u001b[0m\u001b[0;34m\u001b[0m\u001b[0m\n\u001b[1;32m      4\u001b[0m     \u001b[0mdf_hour_minwage\u001b[0m \u001b[0;34m=\u001b[0m \u001b[0mpd\u001b[0m\u001b[0;34m.\u001b[0m\u001b[0mconcat\u001b[0m\u001b[0;34m(\u001b[0m\u001b[0;34m[\u001b[0m\u001b[0mdf_hour_del_outlier\u001b[0m\u001b[0;34m,\u001b[0m \u001b[0mtemp\u001b[0m\u001b[0;34m]\u001b[0m\u001b[0;34m)\u001b[0m\u001b[0;34m\u001b[0m\u001b[0;34m\u001b[0m\u001b[0m\n",
      "\u001b[0;31mNameError\u001b[0m: name 'pd' is not defined"
     ]
    }
   ],
   "source": [
    "df_hour_minwage = pd.DataFrame(columns=df.columns)\n",
    "for name in city_name:\n",
    "    temp = df_hour[(df_hour['city']==name) & (df_hour['pay_qty']<=outlier_max[name])]\n",
    "    df_hour_minwage = pd.concat([df_hour_del_outlier, temp])"
   ]
  },
  {
   "cell_type": "code",
   "execution_count": 5,
   "metadata": {},
   "outputs": [
    {
     "output_type": "error",
     "ename": "NameError",
     "evalue": "name 'df_hour_minwage' is not defined",
     "traceback": [
      "\u001b[0;31m---------------------------------------------------------------------------\u001b[0m",
      "\u001b[0;31mNameError\u001b[0m                                 Traceback (most recent call last)",
      "\u001b[0;32m<ipython-input-5-dd44dacbbb89>\u001b[0m in \u001b[0;36m<module>\u001b[0;34m\u001b[0m\n\u001b[0;32m----> 1\u001b[0;31m \u001b[0mdf_hour_minwage\u001b[0m\u001b[0;34m.\u001b[0m\u001b[0mshape\u001b[0m\u001b[0;34m\u001b[0m\u001b[0;34m\u001b[0m\u001b[0m\n\u001b[0m",
      "\u001b[0;31mNameError\u001b[0m: name 'df_hour_minwage' is not defined"
     ]
    }
   ],
   "source": [
    "df_hour_minwage.shape"
   ]
  },
  {
   "cell_type": "code",
   "execution_count": 6,
   "metadata": {},
   "outputs": [
    {
     "output_type": "error",
     "ename": "NameError",
     "evalue": "name 'city_name' is not defined",
     "traceback": [
      "\u001b[0;31m---------------------------------------------------------------------------\u001b[0m",
      "\u001b[0;31mNameError\u001b[0m                                 Traceback (most recent call last)",
      "\u001b[0;32m<ipython-input-6-88a776dc2690>\u001b[0m in \u001b[0;36m<module>\u001b[0;34m\u001b[0m\n\u001b[0;32m----> 1\u001b[0;31m \u001b[0;32mfor\u001b[0m \u001b[0mname\u001b[0m \u001b[0;32min\u001b[0m \u001b[0mcity_name\u001b[0m\u001b[0;34m:\u001b[0m\u001b[0;34m\u001b[0m\u001b[0;34m\u001b[0m\u001b[0m\n\u001b[0m\u001b[1;32m      2\u001b[0m     \u001b[0mprint\u001b[0m\u001b[0;34m(\u001b[0m\u001b[0mname\u001b[0m\u001b[0;34m)\u001b[0m\u001b[0;34m\u001b[0m\u001b[0;34m\u001b[0m\u001b[0m\n\u001b[1;32m      3\u001b[0m     \u001b[0mprint\u001b[0m\u001b[0;34m(\u001b[0m\u001b[0;34m\"_________________\"\u001b[0m\u001b[0;34m)\u001b[0m\u001b[0;34m\u001b[0m\u001b[0;34m\u001b[0m\u001b[0m\n\u001b[1;32m      4\u001b[0m     \u001b[0mprint\u001b[0m\u001b[0;34m(\u001b[0m\u001b[0mdf_hour_minwage\u001b[0m\u001b[0;34m.\u001b[0m\u001b[0mgroupby\u001b[0m\u001b[0;34m(\u001b[0m\u001b[0;34m'city'\u001b[0m\u001b[0;34m)\u001b[0m\u001b[0;34m[\u001b[0m\u001b[0;34m'occupation'\u001b[0m\u001b[0;34m]\u001b[0m\u001b[0;34m.\u001b[0m\u001b[0mvalue_counts\u001b[0m\u001b[0;34m(\u001b[0m\u001b[0;34m)\u001b[0m\u001b[0;34m[\u001b[0m\u001b[0mname\u001b[0m\u001b[0;34m]\u001b[0m\u001b[0;34m)\u001b[0m\u001b[0;34m\u001b[0m\u001b[0;34m\u001b[0m\u001b[0m\n\u001b[1;32m      5\u001b[0m     \u001b[0mprint\u001b[0m\u001b[0;34m(\u001b[0m\u001b[0;34m\"\"\u001b[0m\u001b[0;34m)\u001b[0m\u001b[0;34m\u001b[0m\u001b[0;34m\u001b[0m\u001b[0m\n",
      "\u001b[0;31mNameError\u001b[0m: name 'city_name' is not defined"
     ]
    }
   ],
   "source": [
    "for name in city_name:\n",
    "    print(name)\n",
    "    print(\"_________________\")\n",
    "    print(df_hour_minwage.groupby('city')['occupation'].value_counts()[name])\n",
    "    print(\"\")"
   ]
  },
  {
   "cell_type": "code",
   "execution_count": 7,
   "metadata": {},
   "outputs": [
    {
     "output_type": "error",
     "ename": "NameError",
     "evalue": "name 'df_hour_minwage' is not defined",
     "traceback": [
      "\u001b[0;31m---------------------------------------------------------------------------\u001b[0m",
      "\u001b[0;31mNameError\u001b[0m                                 Traceback (most recent call last)",
      "\u001b[0;32m<ipython-input-7-326645f3cb17>\u001b[0m in \u001b[0;36m<module>\u001b[0;34m\u001b[0m\n\u001b[1;32m      1\u001b[0m \u001b[0;31m# 件数が少ない職業を削除する\u001b[0m\u001b[0;34m\u001b[0m\u001b[0;34m\u001b[0m\u001b[0;34m\u001b[0m\u001b[0m\n\u001b[0;32m----> 2\u001b[0;31m df_hour_minwage = df_hour_minwage[(df_hour_minwage['occupation']!='beauty') & (df_hour_minwage['occupation']!='nightwork') & \n\u001b[0m\u001b[1;32m      3\u001b[0m                                                                     \u001b[0;34m(\u001b[0m\u001b[0mdf_hour_minwage\u001b[0m\u001b[0;34m[\u001b[0m\u001b[0;34m'occupation'\u001b[0m\u001b[0;34m]\u001b[0m\u001b[0;34m!=\u001b[0m\u001b[0;34m'creative'\u001b[0m\u001b[0;34m)\u001b[0m \u001b[0;34m&\u001b[0m \u001b[0;34m(\u001b[0m\u001b[0mdf_hour_minwage\u001b[0m\u001b[0;34m[\u001b[0m\u001b[0;34m'occupation'\u001b[0m\u001b[0;34m]\u001b[0m\u001b[0;34m!=\u001b[0m\u001b[0;34m'business'\u001b[0m\u001b[0;34m)\u001b[0m \u001b[0;34m&\u001b[0m\u001b[0;34m\u001b[0m\u001b[0;34m\u001b[0m\u001b[0m\n\u001b[1;32m      4\u001b[0m                                                                     \u001b[0;34m(\u001b[0m\u001b[0mdf_hour_minwage\u001b[0m\u001b[0;34m[\u001b[0m\u001b[0;34m'occupation'\u001b[0m\u001b[0;34m]\u001b[0m\u001b[0;34m!=\u001b[0m\u001b[0;34m'professional'\u001b[0m\u001b[0;34m)\u001b[0m \u001b[0;34m&\u001b[0m \u001b[0;34m(\u001b[0m\u001b[0mdf_hour_minwage\u001b[0m\u001b[0;34m[\u001b[0m\u001b[0;34m'occupation'\u001b[0m\u001b[0;34m]\u001b[0m\u001b[0;34m!=\u001b[0m\u001b[0;34m'architecture'\u001b[0m\u001b[0;34m)\u001b[0m \u001b[0;34m&\u001b[0m\u001b[0;34m\u001b[0m\u001b[0;34m\u001b[0m\u001b[0m\n\u001b[1;32m      5\u001b[0m                                                                     (df_hour_minwage['occupation']!='investigation')]\n",
      "\u001b[0;31mNameError\u001b[0m: name 'df_hour_minwage' is not defined"
     ]
    }
   ],
   "source": [
    "# 件数が少ない職業を削除する\n",
    "df_hour_minwage = df_hour_minwage[(df_hour_minwage['occupation']!='beauty') & (df_hour_minwage['occupation']!='nightwork') & \n",
    "                                                                    (df_hour_minwage['occupation']!='creative') & (df_hour_minwage['occupation']!='business') & \n",
    "                                                                    (df_hour_minwage['occupation']!='professional') & (df_hour_minwage['occupation']!='architecture') &\n",
    "                                                                    (df_hour_minwage['occupation']!='investigation')]"
   ]
  },
  {
   "cell_type": "code",
   "execution_count": 8,
   "metadata": {},
   "outputs": [
    {
     "output_type": "error",
     "ename": "NameError",
     "evalue": "name 'df_hour_minwage' is not defined",
     "traceback": [
      "\u001b[0;31m---------------------------------------------------------------------------\u001b[0m",
      "\u001b[0;31mNameError\u001b[0m                                 Traceback (most recent call last)",
      "\u001b[0;32m<ipython-input-8-51f04269ea02>\u001b[0m in \u001b[0;36m<module>\u001b[0;34m\u001b[0m\n\u001b[0;32m----> 1\u001b[0;31m \u001b[0mdf_hour_minwage\u001b[0m\u001b[0;34m[\u001b[0m\u001b[0;34m'occupation'\u001b[0m\u001b[0;34m]\u001b[0m\u001b[0;34m.\u001b[0m\u001b[0mvalue_counts\u001b[0m\u001b[0;34m(\u001b[0m\u001b[0;34m)\u001b[0m\u001b[0;34m\u001b[0m\u001b[0;34m\u001b[0m\u001b[0m\n\u001b[0m",
      "\u001b[0;31mNameError\u001b[0m: name 'df_hour_minwage' is not defined"
     ]
    }
   ],
   "source": [
    "df_hour_minwage['occupation'].value_counts()"
   ]
  },
  {
   "cell_type": "code",
   "execution_count": 9,
   "metadata": {},
   "outputs": [
    {
     "output_type": "error",
     "ename": "NameError",
     "evalue": "name 'city_name' is not defined",
     "traceback": [
      "\u001b[0;31m---------------------------------------------------------------------------\u001b[0m",
      "\u001b[0;31mNameError\u001b[0m                                 Traceback (most recent call last)",
      "\u001b[0;32m<ipython-input-9-5840043216f6>\u001b[0m in \u001b[0;36m<module>\u001b[0;34m\u001b[0m\n\u001b[1;32m      1\u001b[0m \u001b[0mminimum_wage\u001b[0m \u001b[0;34m=\u001b[0m \u001b[0;34m[\u001b[0m\u001b[0;36m1013\u001b[0m\u001b[0;34m,\u001b[0m \u001b[0;36m926\u001b[0m\u001b[0;34m,\u001b[0m \u001b[0;36m964\u001b[0m\u001b[0;34m,\u001b[0m \u001b[0;36m926\u001b[0m\u001b[0;34m,\u001b[0m \u001b[0;36m1011\u001b[0m\u001b[0;34m]\u001b[0m\u001b[0;34m\u001b[0m\u001b[0;34m\u001b[0m\u001b[0m\n\u001b[1;32m      2\u001b[0m \u001b[0mhour_minwage_array\u001b[0m \u001b[0;34m=\u001b[0m \u001b[0;34m[\u001b[0m\u001b[0;34m]\u001b[0m\u001b[0;34m\u001b[0m\u001b[0;34m\u001b[0m\u001b[0m\n\u001b[0;32m----> 3\u001b[0;31m \u001b[0;32mfor\u001b[0m \u001b[0mi\u001b[0m\u001b[0;34m,\u001b[0m \u001b[0mname\u001b[0m \u001b[0;32min\u001b[0m \u001b[0menumerate\u001b[0m\u001b[0;34m(\u001b[0m\u001b[0mcity_name\u001b[0m\u001b[0;34m)\u001b[0m\u001b[0;34m:\u001b[0m\u001b[0;34m\u001b[0m\u001b[0;34m\u001b[0m\u001b[0m\n\u001b[0m\u001b[1;32m      4\u001b[0m     \u001b[0mhour_minwage_array\u001b[0m\u001b[0;34m.\u001b[0m\u001b[0mappend\u001b[0m\u001b[0;34m(\u001b[0m\u001b[0mdf_hour_minwage\u001b[0m\u001b[0;34m[\u001b[0m\u001b[0mdf_hour_minwage\u001b[0m\u001b[0;34m[\u001b[0m\u001b[0;34m'city'\u001b[0m\u001b[0;34m]\u001b[0m\u001b[0;34m==\u001b[0m\u001b[0mname\u001b[0m\u001b[0;34m]\u001b[0m\u001b[0;34m[\u001b[0m\u001b[0;34m'pay_qty'\u001b[0m\u001b[0;34m]\u001b[0m \u001b[0;34m/\u001b[0m \u001b[0mminimum_wage\u001b[0m\u001b[0;34m[\u001b[0m\u001b[0mi\u001b[0m\u001b[0;34m]\u001b[0m \u001b[0;34m-\u001b[0m \u001b[0;36m1\u001b[0m\u001b[0;34m)\u001b[0m\u001b[0;34m\u001b[0m\u001b[0;34m\u001b[0m\u001b[0m\n",
      "\u001b[0;31mNameError\u001b[0m: name 'city_name' is not defined"
     ]
    }
   ],
   "source": [
    "minimum_wage = [1013, 926, 964, 926, 1011]\n",
    "hour_minwage_array = []\n",
    "for i, name in enumerate(city_name):\n",
    "    hour_minwage_array.append(df_hour_minwage[df_hour_minwage['city']==name]['pay_qty'] / minimum_wage[i] - 1)"
   ]
  },
  {
   "cell_type": "code",
   "execution_count": 10,
   "metadata": {},
   "outputs": [
    {
     "output_type": "error",
     "ename": "NameError",
     "evalue": "name 'plt' is not defined",
     "traceback": [
      "\u001b[0;31m---------------------------------------------------------------------------\u001b[0m",
      "\u001b[0;31mNameError\u001b[0m                                 Traceback (most recent call last)",
      "\u001b[0;32m<ipython-input-10-ab77f881f35e>\u001b[0m in \u001b[0;36m<module>\u001b[0;34m\u001b[0m\n\u001b[0;32m----> 1\u001b[0;31m \u001b[0mplt\u001b[0m\u001b[0;34m.\u001b[0m\u001b[0mboxplot\u001b[0m\u001b[0;34m(\u001b[0m\u001b[0mhour_minwage_array\u001b[0m\u001b[0;34m,\u001b[0m \u001b[0mlabels\u001b[0m\u001b[0;34m=\u001b[0m\u001b[0mcity_name\u001b[0m\u001b[0;34m)\u001b[0m\u001b[0;34m\u001b[0m\u001b[0;34m\u001b[0m\u001b[0m\n\u001b[0m",
      "\u001b[0;31mNameError\u001b[0m: name 'plt' is not defined"
     ]
    }
   ],
   "source": [
    "plt.boxplot(hour_minwage_array, labels=city_name)"
   ]
  },
  {
   "cell_type": "markdown",
   "metadata": {},
   "source": [
    "職種の割合"
   ]
  },
  {
   "cell_type": "code",
   "execution_count": 11,
   "metadata": {},
   "outputs": [
    {
     "output_type": "error",
     "ename": "NameError",
     "evalue": "name 'pd' is not defined",
     "traceback": [
      "\u001b[0;31m---------------------------------------------------------------------------\u001b[0m",
      "\u001b[0;31mNameError\u001b[0m                                 Traceback (most recent call last)",
      "\u001b[0;32m<ipython-input-11-9002cf211787>\u001b[0m in \u001b[0;36m<module>\u001b[0;34m\u001b[0m\n\u001b[0;32m----> 1\u001b[0;31m \u001b[0mpd\u001b[0m\u001b[0;34m.\u001b[0m\u001b[0munique\u001b[0m\u001b[0;34m(\u001b[0m\u001b[0mdf\u001b[0m\u001b[0;34m.\u001b[0m\u001b[0mloc\u001b[0m\u001b[0;34m[\u001b[0m\u001b[0;34m:\u001b[0m\u001b[0;34m,\u001b[0m \u001b[0;34m'occupation'\u001b[0m\u001b[0;34m]\u001b[0m\u001b[0;34m)\u001b[0m\u001b[0;34m\u001b[0m\u001b[0;34m\u001b[0m\u001b[0m\n\u001b[0m",
      "\u001b[0;31mNameError\u001b[0m: name 'pd' is not defined"
     ]
    }
   ],
   "source": [
    "pd.unique(df.loc[:, 'occupation'])"
   ]
  },
  {
   "cell_type": "code",
   "execution_count": 12,
   "metadata": {},
   "outputs": [
    {
     "output_type": "error",
     "ename": "NameError",
     "evalue": "name 'city_name' is not defined",
     "traceback": [
      "\u001b[0;31m---------------------------------------------------------------------------\u001b[0m",
      "\u001b[0;31mNameError\u001b[0m                                 Traceback (most recent call last)",
      "\u001b[0;32m<ipython-input-12-58b9ea3d0500>\u001b[0m in \u001b[0;36m<module>\u001b[0;34m\u001b[0m\n\u001b[1;32m      1\u001b[0m \u001b[0;31m# 積み上げ割合グラフ\u001b[0m\u001b[0;34m\u001b[0m\u001b[0;34m\u001b[0m\u001b[0;34m\u001b[0m\u001b[0m\n\u001b[0;32m----> 2\u001b[0;31m \u001b[0;32mfor\u001b[0m \u001b[0mi\u001b[0m \u001b[0;32min\u001b[0m \u001b[0mrange\u001b[0m\u001b[0;34m(\u001b[0m\u001b[0mlen\u001b[0m\u001b[0;34m(\u001b[0m\u001b[0mcity_name\u001b[0m\u001b[0;34m)\u001b[0m\u001b[0;34m)\u001b[0m\u001b[0;34m:\u001b[0m\u001b[0;34m\u001b[0m\u001b[0;34m\u001b[0m\u001b[0m\n\u001b[0m\u001b[1;32m      3\u001b[0m     \u001b[0mvalue_counts\u001b[0m \u001b[0;34m=\u001b[0m \u001b[0mdf\u001b[0m\u001b[0;34m[\u001b[0m\u001b[0mdf\u001b[0m\u001b[0;34m[\u001b[0m\u001b[0;34m\"city\"\u001b[0m\u001b[0;34m]\u001b[0m\u001b[0;34m==\u001b[0m\u001b[0mcity_name\u001b[0m\u001b[0;34m[\u001b[0m\u001b[0mi\u001b[0m\u001b[0;34m]\u001b[0m\u001b[0;34m]\u001b[0m\u001b[0;34m[\u001b[0m\u001b[0;34m\"occupation\"\u001b[0m\u001b[0;34m]\u001b[0m\u001b[0;34m.\u001b[0m\u001b[0mvalue_counts\u001b[0m\u001b[0;34m(\u001b[0m\u001b[0;34m)\u001b[0m\u001b[0;34m\u001b[0m\u001b[0;34m\u001b[0m\u001b[0m\n\u001b[1;32m      4\u001b[0m     \u001b[0mbottom\u001b[0m \u001b[0;34m=\u001b[0m \u001b[0;36m0\u001b[0m\u001b[0;34m\u001b[0m\u001b[0;34m\u001b[0m\u001b[0m\n\u001b[1;32m      5\u001b[0m     \u001b[0;32mfor\u001b[0m \u001b[0mj\u001b[0m \u001b[0;32min\u001b[0m \u001b[0mrange\u001b[0m\u001b[0;34m(\u001b[0m\u001b[0mlen\u001b[0m\u001b[0;34m(\u001b[0m\u001b[0mvalue_counts\u001b[0m\u001b[0;34m)\u001b[0m\u001b[0;34m)\u001b[0m\u001b[0;34m:\u001b[0m\u001b[0;34m\u001b[0m\u001b[0;34m\u001b[0m\u001b[0m\n",
      "\u001b[0;31mNameError\u001b[0m: name 'city_name' is not defined"
     ]
    }
   ],
   "source": [
    "# 積み上げ割合グラフ\n",
    "for i in range(len(city_name)):\n",
    "    value_counts = df[df[\"city\"]==city_name[i]][\"occupation\"].value_counts()\n",
    "    bottom = 0\n",
    "    for j in range(len(value_counts)):\n",
    "        plt.bar(city_name[i], value_counts[j] / sum(value_counts), bottom=bottom)\n",
    "        bottom += value_counts[j] / sum(value_counts)"
   ]
  },
  {
   "cell_type": "markdown",
   "metadata": {},
   "source": [
    "非常に見にくい。色を調節しても見にくいと予想されるため、職業ごとに可視化してみる。"
   ]
  },
  {
   "cell_type": "code",
   "execution_count": 13,
   "metadata": {},
   "outputs": [
    {
     "output_type": "error",
     "ename": "NameError",
     "evalue": "name 'df' is not defined",
     "traceback": [
      "\u001b[0;31m---------------------------------------------------------------------------\u001b[0m",
      "\u001b[0;31mNameError\u001b[0m                                 Traceback (most recent call last)",
      "\u001b[0;32m<ipython-input-13-aa85541935a2>\u001b[0m in \u001b[0;36m<module>\u001b[0;34m\u001b[0m\n\u001b[1;32m      1\u001b[0m df_occupation_ratio = (\n\u001b[0;32m----> 2\u001b[0;31m     \u001b[0mdf\u001b[0m\u001b[0;34m.\u001b[0m\u001b[0mgroupby\u001b[0m\u001b[0;34m(\u001b[0m\u001b[0;34m\"city\"\u001b[0m\u001b[0;34m)\u001b[0m\u001b[0;34m[\u001b[0m\u001b[0;34m\"occupation\"\u001b[0m\u001b[0;34m]\u001b[0m\u001b[0;34m\u001b[0m\u001b[0;34m\u001b[0m\u001b[0m\n\u001b[0m\u001b[1;32m      3\u001b[0m     \u001b[0;34m.\u001b[0m\u001b[0mvalue_counts\u001b[0m\u001b[0;34m(\u001b[0m\u001b[0mnormalize\u001b[0m\u001b[0;34m=\u001b[0m\u001b[0;32mTrue\u001b[0m\u001b[0;34m)\u001b[0m\u001b[0;34m\u001b[0m\u001b[0;34m\u001b[0m\u001b[0m\n\u001b[1;32m      4\u001b[0m     \u001b[0;34m.\u001b[0m\u001b[0mrename\u001b[0m\u001b[0;34m(\u001b[0m\u001b[0;34m\"percentage\"\u001b[0m\u001b[0;34m)\u001b[0m\u001b[0;34m\u001b[0m\u001b[0;34m\u001b[0m\u001b[0m\n\u001b[1;32m      5\u001b[0m     \u001b[0;34m.\u001b[0m\u001b[0mreset_index\u001b[0m\u001b[0;34m(\u001b[0m\u001b[0;34m)\u001b[0m\u001b[0;34m\u001b[0m\u001b[0;34m\u001b[0m\u001b[0m\n",
      "\u001b[0;31mNameError\u001b[0m: name 'df' is not defined"
     ]
    }
   ],
   "source": [
    "df_occupation_ratio = (\n",
    "    df.groupby(\"city\")[\"occupation\"]\n",
    "    .value_counts(normalize=True)\n",
    "    .rename(\"percentage\")\n",
    "    .reset_index()\n",
    ")\n",
    "\n",
    "sns.catplot(\n",
    "    x=\"city\",\n",
    "    y=\"percentage\",\n",
    "    col=\"occupation\",\n",
    "    data=df_occupation_ratio,\n",
    "    kind=\"bar\",\n",
    "    palette=\"Set3\",\n",
    ")"
   ]
  },
  {
   "cell_type": "code",
   "execution_count": 14,
   "metadata": {},
   "outputs": [
    {
     "output_type": "error",
     "ename": "NameError",
     "evalue": "name 'sns' is not defined",
     "traceback": [
      "\u001b[0;31m---------------------------------------------------------------------------\u001b[0m",
      "\u001b[0;31mNameError\u001b[0m                                 Traceback (most recent call last)",
      "\u001b[0;32m<ipython-input-14-f26d7ea9d4b7>\u001b[0m in \u001b[0;36m<module>\u001b[0;34m\u001b[0m\n\u001b[0;32m----> 1\u001b[0;31m \u001b[0msns\u001b[0m\u001b[0;34m.\u001b[0m\u001b[0mpairplot\u001b[0m\u001b[0;34m(\u001b[0m\u001b[0mdf_single\u001b[0m\u001b[0;34m[\u001b[0m\u001b[0mdf_single\u001b[0m\u001b[0;34m[\u001b[0m\u001b[0;34m'pay_form'\u001b[0m\u001b[0;34m]\u001b[0m\u001b[0;34m==\u001b[0m\u001b[0;34m'時給'\u001b[0m\u001b[0;34m]\u001b[0m\u001b[0;34m.\u001b[0m\u001b[0mloc\u001b[0m\u001b[0;34m[\u001b[0m\u001b[0;34m:\u001b[0m\u001b[0;34m,\u001b[0m \u001b[0;34m[\u001b[0m\u001b[0;34m'pay_qty'\u001b[0m\u001b[0;34m,\u001b[0m \u001b[0;34m'daily_paid'\u001b[0m\u001b[0;34m,\u001b[0m \u001b[0;34m'weekly_paid'\u001b[0m\u001b[0;34m,\u001b[0m \u001b[0;34m'high_income'\u001b[0m\u001b[0;34m]\u001b[0m\u001b[0;34m]\u001b[0m\u001b[0;34m,\u001b[0m \u001b[0mpalette\u001b[0m\u001b[0;34m=\u001b[0m\u001b[0;34m'Blues'\u001b[0m\u001b[0;34m)\u001b[0m\u001b[0;34m\u001b[0m\u001b[0;34m\u001b[0m\u001b[0m\n\u001b[0m",
      "\u001b[0;31mNameError\u001b[0m: name 'sns' is not defined"
     ]
    }
   ],
   "source": [
    "sns.pairplot(df_single[df_single['pay_form']=='時給'].loc[:, ['pay_qty', 'daily_paid', 'weekly_paid', 'high_income']], palette='Blues')"
   ]
  },
  {
   "cell_type": "code",
   "execution_count": 15,
   "metadata": {},
   "outputs": [
    {
     "output_type": "error",
     "ename": "NameError",
     "evalue": "name 'sns' is not defined",
     "traceback": [
      "\u001b[0;31m---------------------------------------------------------------------------\u001b[0m",
      "\u001b[0;31mNameError\u001b[0m                                 Traceback (most recent call last)",
      "\u001b[0;32m<ipython-input-15-729a57993837>\u001b[0m in \u001b[0;36m<module>\u001b[0;34m\u001b[0m\n\u001b[0;32m----> 1\u001b[0;31m \u001b[0msns\u001b[0m\u001b[0;34m.\u001b[0m\u001b[0mstripplot\u001b[0m\u001b[0;34m(\u001b[0m\u001b[0mx\u001b[0m\u001b[0;34m=\u001b[0m\u001b[0;34m'occupation'\u001b[0m\u001b[0;34m,\u001b[0m \u001b[0my\u001b[0m\u001b[0;34m=\u001b[0m\u001b[0;34m'pay_qty'\u001b[0m\u001b[0;34m,\u001b[0m \u001b[0mdata\u001b[0m\u001b[0;34m=\u001b[0m\u001b[0mdf\u001b[0m\u001b[0;34m[\u001b[0m\u001b[0mdf\u001b[0m\u001b[0;34m[\u001b[0m\u001b[0;34m'pay_form'\u001b[0m\u001b[0;34m]\u001b[0m\u001b[0;34m==\u001b[0m\u001b[0;34m'時給'\u001b[0m\u001b[0;34m]\u001b[0m\u001b[0;34m,\u001b[0m \u001b[0mjitter\u001b[0m\u001b[0;34m=\u001b[0m\u001b[0;32mTrue\u001b[0m\u001b[0;34m,\u001b[0m \u001b[0mpalette\u001b[0m\u001b[0;34m=\u001b[0m\u001b[0;34m'Blues'\u001b[0m\u001b[0;34m)\u001b[0m\u001b[0;34m\u001b[0m\u001b[0;34m\u001b[0m\u001b[0m\n\u001b[0m",
      "\u001b[0;31mNameError\u001b[0m: name 'sns' is not defined"
     ]
    }
   ],
   "source": [
    "sns.stripplot(x='occupation', y='pay_qty', data=df[df['pay_form']=='時給'], jitter=True, palette='Blues')"
   ]
  },
  {
   "cell_type": "code",
   "execution_count": 16,
   "metadata": {},
   "outputs": [
    {
     "output_type": "error",
     "ename": "NameError",
     "evalue": "name 'df' is not defined",
     "traceback": [
      "\u001b[0;31m---------------------------------------------------------------------------\u001b[0m",
      "\u001b[0;31mNameError\u001b[0m                                 Traceback (most recent call last)",
      "\u001b[0;32m<ipython-input-16-b666bf274d0a>\u001b[0m in \u001b[0;36m<module>\u001b[0;34m\u001b[0m\n\u001b[0;32m----> 1\u001b[0;31m \u001b[0mdf\u001b[0m\u001b[0;34m.\u001b[0m\u001b[0mcolumns\u001b[0m\u001b[0;34m\u001b[0m\u001b[0;34m\u001b[0m\u001b[0m\n\u001b[0m",
      "\u001b[0;31mNameError\u001b[0m: name 'df' is not defined"
     ]
    }
   ],
   "source": [
    "df.columns"
   ]
  },
  {
   "cell_type": "code",
   "execution_count": 17,
   "metadata": {},
   "outputs": [
    {
     "output_type": "error",
     "ename": "NameError",
     "evalue": "name 'df_single' is not defined",
     "traceback": [
      "\u001b[0;31m---------------------------------------------------------------------------\u001b[0m",
      "\u001b[0;31mNameError\u001b[0m                                 Traceback (most recent call last)",
      "\u001b[0;32m<ipython-input-17-5dfb000efed6>\u001b[0m in \u001b[0;36m<module>\u001b[0;34m\u001b[0m\n\u001b[0;32m----> 1\u001b[0;31m \u001b[0mdf_single\u001b[0m\u001b[0;34m[\u001b[0m\u001b[0mdf_single\u001b[0m\u001b[0;34m[\u001b[0m\u001b[0;34m'pay_form'\u001b[0m\u001b[0;34m]\u001b[0m\u001b[0;34m==\u001b[0m\u001b[0;34m'時給'\u001b[0m\u001b[0;34m]\u001b[0m\u001b[0;34m.\u001b[0m\u001b[0mloc\u001b[0m\u001b[0;34m[\u001b[0m\u001b[0;34m:\u001b[0m\u001b[0;34m,\u001b[0m \u001b[0;34m[\u001b[0m\u001b[0;34m'pay_qty'\u001b[0m\u001b[0;34m,\u001b[0m \u001b[0;34m'daily_paid'\u001b[0m\u001b[0;34m,\u001b[0m \u001b[0;34m'weekly_paid'\u001b[0m\u001b[0;34m,\u001b[0m \u001b[0;34m'high_income'\u001b[0m\u001b[0;34m]\u001b[0m\u001b[0;34m]\u001b[0m\u001b[0;34m\u001b[0m\u001b[0;34m\u001b[0m\u001b[0m\n\u001b[0m",
      "\u001b[0;31mNameError\u001b[0m: name 'df_single' is not defined"
     ]
    }
   ],
   "source": [
    "df_single[df_single['pay_form']=='時給'].loc[:, ['pay_qty', 'daily_paid', 'weekly_paid', 'high_income']]"
   ]
  },
  {
   "cell_type": "code",
   "execution_count": null,
   "metadata": {},
   "outputs": [],
   "source": []
  }
 ],
 "metadata": {
  "kernelspec": {
   "display_name": "Python 3",
   "language": "python",
   "name": "python3"
  },
  "language_info": {
   "codemirror_mode": {
    "name": "ipython",
    "version": 3
   },
   "file_extension": ".py",
   "mimetype": "text/x-python",
   "name": "python",
   "nbconvert_exporter": "python",
   "pygments_lexer": "ipython3",
   "version": "3.8.2-final"
  }
 },
 "nbformat": 4,
 "nbformat_minor": 2
}